{
 "cells": [
  {
   "cell_type": "code",
   "execution_count": 1,
   "metadata": {},
   "outputs": [
    {
     "ename": "IndentationError",
     "evalue": "expected an indented block (<ipython-input-1-8a8154d908ce>, line 15)",
     "output_type": "error",
     "traceback": [
      "\u001b[1;36m  File \u001b[1;32m\"<ipython-input-1-8a8154d908ce>\"\u001b[1;36m, line \u001b[1;32m15\u001b[0m\n\u001b[1;33m    data=pro.query(‘stock_basic’, exchange=ex,list_status=‘L’,fields=‘ts_code,symbol,name,area,industry,list_date’\u001b[0m\n\u001b[1;37m       ^\u001b[0m\n\u001b[1;31mIndentationError\u001b[0m\u001b[1;31m:\u001b[0m expected an indented block\n"
     ]
    }
   ],
   "source": [
    "import numpy as np\n",
    "import pandas as pd\n",
    "import tushare as ts\n",
    "import MySQLdb as mdb\n",
    "\n",
    "#获取沪深300指数的股票名单\n",
    "hs300_data=ts.get_hs300s()\n",
    "hss  =hs300_data[\"name\"]\n",
    "\n",
    "#获取上交所SSE，深交所SZSE，港交所HKEX正常上市交易的股票名单\n",
    "pro=ts.pro_api()\n",
    "exc=[\"SSE\",\"SZSE\"]\n",
    "stock_data=[]\n",
    "for ex in exc:\n",
    "data=pro.query(‘stock_basic’, exchange=ex,list_status=‘L’,fields=‘ts_code,symbol,name,area,industry,list_date’\n",
    "stock_data.append(data)\n",
    "\n",
    "#获取沪深300成分股中正常上市交易的名单\n",
    "s_name=pd.concat([stock_data[0][[“name”,“ts_code”]],\n",
    "stock_data[1][[“name”,“ts_code”]]],ignore_index=True)\n",
    "\n",
    "normal300=[]\n",
    "\n",
    "num300=len(hss)\n",
    "numn=len(s_name)\n",
    "\n",
    "for i in range(num300):\n",
    "for j in range(numn):\n",
    "if hss.loc[i]==s_name.loc[j][“name”]:\n",
    "normal300.append(s_name.loc[i])\n",
    "\n",
    "#提取沪深300指2010年01月01到2018年01月01的交易数据，存入d_price中\n",
    "d_price=[]\n",
    "for i in range(len(normal300)):\n",
    "df = pro.daily(ts_code=normal300[i][“ts_code”],\n",
    "start_date=‘20100101’,\n",
    "end_date=‘20180101’)\n",
    "d_price.append(df)\n",
    "#PS：本例中总共提取了295个，貌似正常交易的就295个\n",
    " \n",
    " "
   ]
  },
  {
   "cell_type": "code",
   "execution_count": null,
   "metadata": {},
   "outputs": [],
   "source": []
  }
 ],
 "metadata": {
  "kernelspec": {
   "display_name": "Python 3",
   "language": "python",
   "name": "python3"
  },
  "language_info": {
   "codemirror_mode": {
    "name": "ipython",
    "version": 3
   },
   "file_extension": ".py",
   "mimetype": "text/x-python",
   "name": "python",
   "nbconvert_exporter": "python",
   "pygments_lexer": "ipython3",
   "version": "3.7.0"
  }
 },
 "nbformat": 4,
 "nbformat_minor": 2
}
