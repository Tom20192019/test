{
 "cells": [
  {
   "cell_type": "markdown",
   "metadata": {},
   "source": [
    "- 数据处理\n",
    "- 去除完全重复值\n",
    "- 对日期取年月\n",
    "- 同时删除（2字段有一个缺失的情况）"
   ]
  },
  {
   "cell_type": "code",
   "execution_count": 67,
   "metadata": {},
   "outputs": [],
   "source": [
    "import numpy as np \n",
    "import pandas as pd\n",
    "%matplotlib inline"
   ]
  },
  {
   "cell_type": "code",
   "execution_count": 68,
   "metadata": {},
   "outputs": [],
   "source": [
    "#from numba import jit"
   ]
  },
  {
   "cell_type": "code",
   "execution_count": 69,
   "metadata": {},
   "outputs": [],
   "source": [
    "sample_window = pd.read_csv(\"C:/Users/tyx51/Desktop/data3/CreditSampleWindow.csv\")"
   ]
  },
  {
   "cell_type": "code",
   "execution_count": 70,
   "metadata": {},
   "outputs": [
    {
     "name": "stdout",
     "output_type": "stream",
     "text": [
      "['CID' 'STAGE_BEF' 'STAGE_AFT' 'START_DATE' 'CLOSE_DATE']\n"
     ]
    }
   ],
   "source": [
    "print(sample_window.columns.values) "
   ]
  },
  {
   "cell_type": "code",
   "execution_count": 71,
   "metadata": {},
   "outputs": [
    {
     "data": {
      "text/plain": [
       "(1813157, 5)"
      ]
     },
     "execution_count": 71,
     "metadata": {},
     "output_type": "execute_result"
    }
   ],
   "source": [
    "sample_window.shape"
   ]
  },
  {
   "cell_type": "code",
   "execution_count": 81,
   "metadata": {
    "collapsed": true
   },
   "outputs": [
    {
     "data": {
      "text/plain": [
       "<bound method DataFrame.info of                 CID STAGE_BEF STAGE_AFT  START_DATE  CLOSE_DATE  STAGE_MONTH  \\\n",
       "0        CID0128273                  M0  20170701.0  20170703.0       201707   \n",
       "1        CID0214787                  M0  20180201.0  20180204.0       201802   \n",
       "2        CID0287932        M4        M5  20180501.0  20180531.0       201805   \n",
       "3        CID0351850                  M0  20161002.0  20161005.0       201610   \n",
       "4        CID0217310                  M0  20150601.0  20150602.0       201506   \n",
       "5        CID0010329        M6        M7  20170128.0  20170227.0       201701   \n",
       "6        CID0140008                  M0  20170801.0  20170802.0       201708   \n",
       "7        CID0066926                  M0  20170201.0  20170204.0       201702   \n",
       "8        CID0156186                  M0  20170701.0  20170704.0       201707   \n",
       "9        CID0362128        M0        M1  20160504.0  20160510.0       201605   \n",
       "10       CID0100237                  M0  20160901.0  20160904.0       201609   \n",
       "11       CID0098407        M0        M1  20170704.0  20170704.0       201707   \n",
       "12       CID0197700                  M0  20180301.0  20180304.0       201803   \n",
       "13       CID0297261                  M0  20170701.0  20170702.0       201707   \n",
       "14       CID0089617                  M0  20180501.0  20180502.0       201805   \n",
       "15       CID0223200                  M0  20170301.0  20170302.0       201703   \n",
       "16       CID0255450        M1        M2  20151231.0  20160130.0       201512   \n",
       "18       CID0349107        M2        M3  20180302.0  20180401.0       201803   \n",
       "19       CID0125358        M2        M3  20180302.0  20180401.0       201803   \n",
       "21       CID0052618                  M0  20171201.0  20171204.0       201712   \n",
       "22       CID0374109                  M0  20180201.0  20180202.0       201802   \n",
       "23       CID0154086                  M0  20180401.0  20180404.0       201804   \n",
       "24       CID0280274        M4        M5  20170730.0  20170829.0       201707   \n",
       "25       CID0079549                  M0  20161001.0  20161004.0       201610   \n",
       "26       CID0316572                  M0  20180101.0  20180103.0       201801   \n",
       "28       CID0329353                  M0  20151001.0  20151002.0       201510   \n",
       "29       CID0173811        M0        M1  20180104.0  20180106.0       201801   \n",
       "30       CID0252813                  M0  20170401.0  20170403.0       201704   \n",
       "31       CID0238737        M0        M1  20170704.0  20170704.0       201707   \n",
       "32       CID0294431        M1        M2  20180501.0  20180516.0       201805   \n",
       "...             ...       ...       ...         ...         ...          ...   \n",
       "1813126  CID0048280                  M0  20160901.0  20160902.0       201609   \n",
       "1813128  CID0180456                  M0  20171101.0  20171104.0       201711   \n",
       "1813129  CID0217289        M0        M1  20160104.0  20160131.0       201601   \n",
       "1813130  CID0190985                  M0  20180301.0  20180302.0       201803   \n",
       "1813131  CID0374997                  M0  20180401.0  20180402.0       201804   \n",
       "1813132  CID0362552                  M0  20180101.0  20180103.0       201801   \n",
       "1813133  CID0073633                  M0  20151225.0  20151226.0       201512   \n",
       "1813134  CID0032857        M0        M1  20170404.0  20170405.0       201704   \n",
       "1813135  CID0061462        M1        M2  20180531.0         0.0       201805   \n",
       "1813136  CID0319500                  M0  20170701.0  20170702.0       201707   \n",
       "1813137  CID0106991                  M0  20171101.0  20171102.0       201711   \n",
       "1813138  CID0128391        M1        M2  20180131.0  20180302.0       201801   \n",
       "1813139  CID0233960                  M0  20170901.0  20170902.0       201709   \n",
       "1813140  CID0299548        M0        M1  20180104.0  20180109.0       201801   \n",
       "1813141  CID0174594                  M0  20170701.0  20170704.0       201707   \n",
       "1813142  CID0166204                  M0  20180501.0  20180502.0       201805   \n",
       "1813143  CID0229352                  M0  20160801.0  20160802.0       201608   \n",
       "1813144  CID0109312                  M0  20170301.0  20170304.0       201703   \n",
       "1813145  CID0117871                  M0  20180301.0  20180302.0       201803   \n",
       "1813146  CID0347833                  M0  20171001.0  20171003.0       201710   \n",
       "1813147  CID0383300                  M0  20161201.0  20161204.0       201612   \n",
       "1813148  CID0294154                  M0  20171201.0  20171202.0       201712   \n",
       "1813149  CID0349721                  M0  20161001.0  20161002.0       201610   \n",
       "1813150  CID0152283        M1        M2  20170701.0  20170731.0       201707   \n",
       "1813151  CID0027936                  M0  20180301.0  20180304.0       201803   \n",
       "1813152  CID0319068                  M0  20170501.0  20170502.0       201705   \n",
       "1813153  CID0246604                  M0  20180301.0  20180302.0       201803   \n",
       "1813154  CID0083781                  M0  20171001.0  20171004.0       201710   \n",
       "1813155  CID0358959                  M0  20180501.0  20180504.0       201805   \n",
       "1813156  CID0060406                  M0  20180501.0  20180502.0       201805   \n",
       "\n",
       "         CLOSE_MONTH  AFT_FLAG  \n",
       "0             201707         0  \n",
       "1             201802         0  \n",
       "2             201805         5  \n",
       "3             201610         0  \n",
       "4             201506         0  \n",
       "5             201702         7  \n",
       "6             201708         0  \n",
       "7             201702         0  \n",
       "8             201707         0  \n",
       "9             201605         1  \n",
       "10            201609         0  \n",
       "11            201707         1  \n",
       "12            201803         0  \n",
       "13            201707         0  \n",
       "14            201805         0  \n",
       "15            201703         0  \n",
       "16            201601         2  \n",
       "18            201804         3  \n",
       "19            201804         3  \n",
       "21            201712         0  \n",
       "22            201802         0  \n",
       "23            201804         0  \n",
       "24            201708         5  \n",
       "25            201610         0  \n",
       "26            201801         0  \n",
       "28            201510         0  \n",
       "29            201801         1  \n",
       "30            201704         0  \n",
       "31            201707         1  \n",
       "32            201805         2  \n",
       "...              ...       ...  \n",
       "1813126       201609         0  \n",
       "1813128       201711         0  \n",
       "1813129       201601         1  \n",
       "1813130       201803         0  \n",
       "1813131       201804         0  \n",
       "1813132       201801         0  \n",
       "1813133       201512         0  \n",
       "1813134       201704         1  \n",
       "1813135       201805         2  \n",
       "1813136       201707         0  \n",
       "1813137       201711         0  \n",
       "1813138       201803         2  \n",
       "1813139       201709         0  \n",
       "1813140       201801         1  \n",
       "1813141       201707         0  \n",
       "1813142       201805         0  \n",
       "1813143       201608         0  \n",
       "1813144       201703         0  \n",
       "1813145       201803         0  \n",
       "1813146       201710         0  \n",
       "1813147       201612         0  \n",
       "1813148       201712         0  \n",
       "1813149       201610         0  \n",
       "1813150       201707         2  \n",
       "1813151       201803         0  \n",
       "1813152       201705         0  \n",
       "1813153       201803         0  \n",
       "1813154       201710         0  \n",
       "1813155       201805         0  \n",
       "1813156       201805         0  \n",
       "\n",
       "[1663660 rows x 8 columns]>"
      ]
     },
     "execution_count": 81,
     "metadata": {},
     "output_type": "execute_result"
    }
   ],
   "source": [
    "sample_window.info"
   ]
  },
  {
   "cell_type": "code",
   "execution_count": null,
   "metadata": {},
   "outputs": [],
   "source": []
  },
  {
   "cell_type": "code",
   "execution_count": 72,
   "metadata": {},
   "outputs": [
    {
     "data": {
      "text/html": [
       "<div>\n",
       "<style scoped>\n",
       "    .dataframe tbody tr th:only-of-type {\n",
       "        vertical-align: middle;\n",
       "    }\n",
       "\n",
       "    .dataframe tbody tr th {\n",
       "        vertical-align: top;\n",
       "    }\n",
       "\n",
       "    .dataframe thead th {\n",
       "        text-align: right;\n",
       "    }\n",
       "</style>\n",
       "<table border=\"1\" class=\"dataframe\">\n",
       "  <thead>\n",
       "    <tr style=\"text-align: right;\">\n",
       "      <th></th>\n",
       "      <th>CID</th>\n",
       "      <th>STAGE_BEF</th>\n",
       "      <th>STAGE_AFT</th>\n",
       "      <th>START_DATE</th>\n",
       "      <th>CLOSE_DATE</th>\n",
       "    </tr>\n",
       "  </thead>\n",
       "  <tbody>\n",
       "    <tr>\n",
       "      <th>0</th>\n",
       "      <td>CID0128273</td>\n",
       "      <td></td>\n",
       "      <td>M0</td>\n",
       "      <td>20170701.0</td>\n",
       "      <td>20170703.0</td>\n",
       "    </tr>\n",
       "    <tr>\n",
       "      <th>1</th>\n",
       "      <td>CID0214787</td>\n",
       "      <td></td>\n",
       "      <td>M0</td>\n",
       "      <td>20180201.0</td>\n",
       "      <td>20180204.0</td>\n",
       "    </tr>\n",
       "    <tr>\n",
       "      <th>2</th>\n",
       "      <td>CID0287932</td>\n",
       "      <td>M4</td>\n",
       "      <td>M5</td>\n",
       "      <td>20180501.0</td>\n",
       "      <td>20180531.0</td>\n",
       "    </tr>\n",
       "    <tr>\n",
       "      <th>3</th>\n",
       "      <td>CID0351850</td>\n",
       "      <td></td>\n",
       "      <td>M0</td>\n",
       "      <td>20161002.0</td>\n",
       "      <td>20161005.0</td>\n",
       "    </tr>\n",
       "    <tr>\n",
       "      <th>4</th>\n",
       "      <td>CID0217310</td>\n",
       "      <td></td>\n",
       "      <td>M0</td>\n",
       "      <td>20150601.0</td>\n",
       "      <td>20150602.0</td>\n",
       "    </tr>\n",
       "    <tr>\n",
       "      <th>5</th>\n",
       "      <td>CID0010329</td>\n",
       "      <td>M6</td>\n",
       "      <td>M7</td>\n",
       "      <td>20170128.0</td>\n",
       "      <td>20170227.0</td>\n",
       "    </tr>\n",
       "    <tr>\n",
       "      <th>6</th>\n",
       "      <td>CID0140008</td>\n",
       "      <td></td>\n",
       "      <td>M0</td>\n",
       "      <td>20170801.0</td>\n",
       "      <td>20170802.0</td>\n",
       "    </tr>\n",
       "    <tr>\n",
       "      <th>7</th>\n",
       "      <td>CID0066926</td>\n",
       "      <td></td>\n",
       "      <td>M0</td>\n",
       "      <td>20170201.0</td>\n",
       "      <td>20170204.0</td>\n",
       "    </tr>\n",
       "    <tr>\n",
       "      <th>8</th>\n",
       "      <td>CID0156186</td>\n",
       "      <td></td>\n",
       "      <td>M0</td>\n",
       "      <td>20170701.0</td>\n",
       "      <td>20170704.0</td>\n",
       "    </tr>\n",
       "    <tr>\n",
       "      <th>9</th>\n",
       "      <td>CID0362128</td>\n",
       "      <td>M0</td>\n",
       "      <td>M1</td>\n",
       "      <td>20160504.0</td>\n",
       "      <td>20160510.0</td>\n",
       "    </tr>\n",
       "  </tbody>\n",
       "</table>\n",
       "</div>"
      ],
      "text/plain": [
       "          CID STAGE_BEF STAGE_AFT  START_DATE  CLOSE_DATE\n",
       "0  CID0128273                  M0  20170701.0  20170703.0\n",
       "1  CID0214787                  M0  20180201.0  20180204.0\n",
       "2  CID0287932        M4        M5  20180501.0  20180531.0\n",
       "3  CID0351850                  M0  20161002.0  20161005.0\n",
       "4  CID0217310                  M0  20150601.0  20150602.0\n",
       "5  CID0010329        M6        M7  20170128.0  20170227.0\n",
       "6  CID0140008                  M0  20170801.0  20170802.0\n",
       "7  CID0066926                  M0  20170201.0  20170204.0\n",
       "8  CID0156186                  M0  20170701.0  20170704.0\n",
       "9  CID0362128        M0        M1  20160504.0  20160510.0"
      ]
     },
     "execution_count": 72,
     "metadata": {},
     "output_type": "execute_result"
    }
   ],
   "source": [
    "sample_window.head(10)  "
   ]
  },
  {
   "cell_type": "code",
   "execution_count": 73,
   "metadata": {},
   "outputs": [
    {
     "data": {
      "text/plain": [
       "(1813157, 5)"
      ]
     },
     "execution_count": 73,
     "metadata": {},
     "output_type": "execute_result"
    }
   ],
   "source": [
    "sample_window.drop_duplicates(inplace=True) # 去除  所有的值完全重复  的行 \n",
    "sample_window.shape"
   ]
  },
  {
   "cell_type": "code",
   "execution_count": 74,
   "metadata": {},
   "outputs": [
    {
     "data": {
      "text/plain": [
       "(1663660, 5)"
      ]
     },
     "execution_count": 74,
     "metadata": {},
     "output_type": "execute_result"
    }
   ],
   "source": [
    "sample_window.dropna(subset=[\"STAGE_BEF\",\"STAGE_AFT\"],inplace=True)  #两字段有一个缺失就删除之 \n",
    "sample_window.shape  "
   ]
  },
  {
   "cell_type": "code",
   "execution_count": 75,
   "metadata": {},
   "outputs": [
    {
     "data": {
      "text/html": [
       "<div>\n",
       "<style scoped>\n",
       "    .dataframe tbody tr th:only-of-type {\n",
       "        vertical-align: middle;\n",
       "    }\n",
       "\n",
       "    .dataframe tbody tr th {\n",
       "        vertical-align: top;\n",
       "    }\n",
       "\n",
       "    .dataframe thead th {\n",
       "        text-align: right;\n",
       "    }\n",
       "</style>\n",
       "<table border=\"1\" class=\"dataframe\">\n",
       "  <thead>\n",
       "    <tr style=\"text-align: right;\">\n",
       "      <th></th>\n",
       "      <th>CID</th>\n",
       "      <th>STAGE_BEF</th>\n",
       "      <th>STAGE_AFT</th>\n",
       "      <th>START_DATE</th>\n",
       "      <th>CLOSE_DATE</th>\n",
       "    </tr>\n",
       "  </thead>\n",
       "  <tbody>\n",
       "    <tr>\n",
       "      <th>0</th>\n",
       "      <td>CID0128273</td>\n",
       "      <td></td>\n",
       "      <td>M0</td>\n",
       "      <td>20170701.0</td>\n",
       "      <td>20170703.0</td>\n",
       "    </tr>\n",
       "    <tr>\n",
       "      <th>1</th>\n",
       "      <td>CID0214787</td>\n",
       "      <td></td>\n",
       "      <td>M0</td>\n",
       "      <td>20180201.0</td>\n",
       "      <td>20180204.0</td>\n",
       "    </tr>\n",
       "    <tr>\n",
       "      <th>2</th>\n",
       "      <td>CID0287932</td>\n",
       "      <td>M4</td>\n",
       "      <td>M5</td>\n",
       "      <td>20180501.0</td>\n",
       "      <td>20180531.0</td>\n",
       "    </tr>\n",
       "    <tr>\n",
       "      <th>3</th>\n",
       "      <td>CID0351850</td>\n",
       "      <td></td>\n",
       "      <td>M0</td>\n",
       "      <td>20161002.0</td>\n",
       "      <td>20161005.0</td>\n",
       "    </tr>\n",
       "    <tr>\n",
       "      <th>4</th>\n",
       "      <td>CID0217310</td>\n",
       "      <td></td>\n",
       "      <td>M0</td>\n",
       "      <td>20150601.0</td>\n",
       "      <td>20150602.0</td>\n",
       "    </tr>\n",
       "    <tr>\n",
       "      <th>5</th>\n",
       "      <td>CID0010329</td>\n",
       "      <td>M6</td>\n",
       "      <td>M7</td>\n",
       "      <td>20170128.0</td>\n",
       "      <td>20170227.0</td>\n",
       "    </tr>\n",
       "    <tr>\n",
       "      <th>6</th>\n",
       "      <td>CID0140008</td>\n",
       "      <td></td>\n",
       "      <td>M0</td>\n",
       "      <td>20170801.0</td>\n",
       "      <td>20170802.0</td>\n",
       "    </tr>\n",
       "    <tr>\n",
       "      <th>7</th>\n",
       "      <td>CID0066926</td>\n",
       "      <td></td>\n",
       "      <td>M0</td>\n",
       "      <td>20170201.0</td>\n",
       "      <td>20170204.0</td>\n",
       "    </tr>\n",
       "    <tr>\n",
       "      <th>8</th>\n",
       "      <td>CID0156186</td>\n",
       "      <td></td>\n",
       "      <td>M0</td>\n",
       "      <td>20170701.0</td>\n",
       "      <td>20170704.0</td>\n",
       "    </tr>\n",
       "    <tr>\n",
       "      <th>9</th>\n",
       "      <td>CID0362128</td>\n",
       "      <td>M0</td>\n",
       "      <td>M1</td>\n",
       "      <td>20160504.0</td>\n",
       "      <td>20160510.0</td>\n",
       "    </tr>\n",
       "  </tbody>\n",
       "</table>\n",
       "</div>"
      ],
      "text/plain": [
       "          CID STAGE_BEF STAGE_AFT  START_DATE  CLOSE_DATE\n",
       "0  CID0128273                  M0  20170701.0  20170703.0\n",
       "1  CID0214787                  M0  20180201.0  20180204.0\n",
       "2  CID0287932        M4        M5  20180501.0  20180531.0\n",
       "3  CID0351850                  M0  20161002.0  20161005.0\n",
       "4  CID0217310                  M0  20150601.0  20150602.0\n",
       "5  CID0010329        M6        M7  20170128.0  20170227.0\n",
       "6  CID0140008                  M0  20170801.0  20170802.0\n",
       "7  CID0066926                  M0  20170201.0  20170204.0\n",
       "8  CID0156186                  M0  20170701.0  20170704.0\n",
       "9  CID0362128        M0        M1  20160504.0  20160510.0"
      ]
     },
     "execution_count": 75,
     "metadata": {},
     "output_type": "execute_result"
    }
   ],
   "source": [
    "sample_window.head(10)"
   ]
  },
  {
   "cell_type": "code",
   "execution_count": 76,
   "metadata": {},
   "outputs": [],
   "source": [
    "# 对日期取年月份\n",
    "sample_window[\"STAGE_MONTH\"] = sample_window.START_DATE.apply(lambda x: int(x//100))\n",
    "sample_window[\"CLOSE_MONTH\"] = sample_window.CLOSE_DATE.apply(lambda x: int(x//100))"
   ]
  },
  {
   "cell_type": "code",
   "execution_count": 77,
   "metadata": {},
   "outputs": [],
   "source": [
    "sample_window[\"AFT_FLAG\"] = sample_window.STAGE_AFT.apply(lambda x: int(x[-1]))"
   ]
  },
  {
   "cell_type": "code",
   "execution_count": 78,
   "metadata": {},
   "outputs": [
    {
     "data": {
      "text/html": [
       "<div>\n",
       "<style scoped>\n",
       "    .dataframe tbody tr th:only-of-type {\n",
       "        vertical-align: middle;\n",
       "    }\n",
       "\n",
       "    .dataframe tbody tr th {\n",
       "        vertical-align: top;\n",
       "    }\n",
       "\n",
       "    .dataframe thead th {\n",
       "        text-align: right;\n",
       "    }\n",
       "</style>\n",
       "<table border=\"1\" class=\"dataframe\">\n",
       "  <thead>\n",
       "    <tr style=\"text-align: right;\">\n",
       "      <th></th>\n",
       "      <th>CID</th>\n",
       "      <th>STAGE_BEF</th>\n",
       "      <th>STAGE_AFT</th>\n",
       "      <th>START_DATE</th>\n",
       "      <th>CLOSE_DATE</th>\n",
       "      <th>STAGE_MONTH</th>\n",
       "      <th>CLOSE_MONTH</th>\n",
       "      <th>AFT_FLAG</th>\n",
       "    </tr>\n",
       "  </thead>\n",
       "  <tbody>\n",
       "    <tr>\n",
       "      <th>0</th>\n",
       "      <td>CID0128273</td>\n",
       "      <td></td>\n",
       "      <td>M0</td>\n",
       "      <td>20170701.0</td>\n",
       "      <td>20170703.0</td>\n",
       "      <td>201707</td>\n",
       "      <td>201707</td>\n",
       "      <td>0</td>\n",
       "    </tr>\n",
       "    <tr>\n",
       "      <th>1</th>\n",
       "      <td>CID0214787</td>\n",
       "      <td></td>\n",
       "      <td>M0</td>\n",
       "      <td>20180201.0</td>\n",
       "      <td>20180204.0</td>\n",
       "      <td>201802</td>\n",
       "      <td>201802</td>\n",
       "      <td>0</td>\n",
       "    </tr>\n",
       "    <tr>\n",
       "      <th>2</th>\n",
       "      <td>CID0287932</td>\n",
       "      <td>M4</td>\n",
       "      <td>M5</td>\n",
       "      <td>20180501.0</td>\n",
       "      <td>20180531.0</td>\n",
       "      <td>201805</td>\n",
       "      <td>201805</td>\n",
       "      <td>5</td>\n",
       "    </tr>\n",
       "    <tr>\n",
       "      <th>3</th>\n",
       "      <td>CID0351850</td>\n",
       "      <td></td>\n",
       "      <td>M0</td>\n",
       "      <td>20161002.0</td>\n",
       "      <td>20161005.0</td>\n",
       "      <td>201610</td>\n",
       "      <td>201610</td>\n",
       "      <td>0</td>\n",
       "    </tr>\n",
       "    <tr>\n",
       "      <th>4</th>\n",
       "      <td>CID0217310</td>\n",
       "      <td></td>\n",
       "      <td>M0</td>\n",
       "      <td>20150601.0</td>\n",
       "      <td>20150602.0</td>\n",
       "      <td>201506</td>\n",
       "      <td>201506</td>\n",
       "      <td>0</td>\n",
       "    </tr>\n",
       "    <tr>\n",
       "      <th>5</th>\n",
       "      <td>CID0010329</td>\n",
       "      <td>M6</td>\n",
       "      <td>M7</td>\n",
       "      <td>20170128.0</td>\n",
       "      <td>20170227.0</td>\n",
       "      <td>201701</td>\n",
       "      <td>201702</td>\n",
       "      <td>7</td>\n",
       "    </tr>\n",
       "    <tr>\n",
       "      <th>6</th>\n",
       "      <td>CID0140008</td>\n",
       "      <td></td>\n",
       "      <td>M0</td>\n",
       "      <td>20170801.0</td>\n",
       "      <td>20170802.0</td>\n",
       "      <td>201708</td>\n",
       "      <td>201708</td>\n",
       "      <td>0</td>\n",
       "    </tr>\n",
       "    <tr>\n",
       "      <th>7</th>\n",
       "      <td>CID0066926</td>\n",
       "      <td></td>\n",
       "      <td>M0</td>\n",
       "      <td>20170201.0</td>\n",
       "      <td>20170204.0</td>\n",
       "      <td>201702</td>\n",
       "      <td>201702</td>\n",
       "      <td>0</td>\n",
       "    </tr>\n",
       "    <tr>\n",
       "      <th>8</th>\n",
       "      <td>CID0156186</td>\n",
       "      <td></td>\n",
       "      <td>M0</td>\n",
       "      <td>20170701.0</td>\n",
       "      <td>20170704.0</td>\n",
       "      <td>201707</td>\n",
       "      <td>201707</td>\n",
       "      <td>0</td>\n",
       "    </tr>\n",
       "    <tr>\n",
       "      <th>9</th>\n",
       "      <td>CID0362128</td>\n",
       "      <td>M0</td>\n",
       "      <td>M1</td>\n",
       "      <td>20160504.0</td>\n",
       "      <td>20160510.0</td>\n",
       "      <td>201605</td>\n",
       "      <td>201605</td>\n",
       "      <td>1</td>\n",
       "    </tr>\n",
       "  </tbody>\n",
       "</table>\n",
       "</div>"
      ],
      "text/plain": [
       "          CID STAGE_BEF STAGE_AFT  START_DATE  CLOSE_DATE  STAGE_MONTH  \\\n",
       "0  CID0128273                  M0  20170701.0  20170703.0       201707   \n",
       "1  CID0214787                  M0  20180201.0  20180204.0       201802   \n",
       "2  CID0287932        M4        M5  20180501.0  20180531.0       201805   \n",
       "3  CID0351850                  M0  20161002.0  20161005.0       201610   \n",
       "4  CID0217310                  M0  20150601.0  20150602.0       201506   \n",
       "5  CID0010329        M6        M7  20170128.0  20170227.0       201701   \n",
       "6  CID0140008                  M0  20170801.0  20170802.0       201708   \n",
       "7  CID0066926                  M0  20170201.0  20170204.0       201702   \n",
       "8  CID0156186                  M0  20170701.0  20170704.0       201707   \n",
       "9  CID0362128        M0        M1  20160504.0  20160510.0       201605   \n",
       "\n",
       "   CLOSE_MONTH  AFT_FLAG  \n",
       "0       201707         0  \n",
       "1       201802         0  \n",
       "2       201805         5  \n",
       "3       201610         0  \n",
       "4       201506         0  \n",
       "5       201702         7  \n",
       "6       201708         0  \n",
       "7       201702         0  \n",
       "8       201707         0  \n",
       "9       201605         1  "
      ]
     },
     "execution_count": 78,
     "metadata": {},
     "output_type": "execute_result"
    }
   ],
   "source": [
    "sample_window.head(10) "
   ]
  },
  {
   "cell_type": "code",
   "execution_count": 79,
   "metadata": {},
   "outputs": [],
   "source": [
    "sample_window.loc[sample_window.CLOSE_MONTH == 0,\"CLOSE_MONTH\"] = 201805"
   ]
  },
  {
   "cell_type": "code",
   "execution_count": 80,
   "metadata": {},
   "outputs": [],
   "source": [
    "#解决warning \n",
    "import warnings\n",
    "warnings.filterwarnings(\"ignore\")"
   ]
  },
  {
   "cell_type": "markdown",
   "metadata": {},
   "source": [
    "三国人物出场统计"
   ]
  },
  {
   "cell_type": "code",
   "execution_count": 1,
   "metadata": {
    "collapsed": true
   },
   "outputs": [
    {
     "name": "stderr",
     "output_type": "stream",
     "text": [
      "Building prefix dict from the default dictionary ...\n",
      "Dumping model to file cache C:\\Users\\tyx51\\AppData\\Local\\Temp\\jieba.cache\n",
      "Loading model cost 0.633 seconds.\n",
      "Prefix dict has been built succesfully.\n"
     ]
    },
    {
     "name": "stdout",
     "output_type": "stream",
     "text": [
      "曹操               934\n",
      "孔明               831\n",
      "将军               760\n",
      "却说               647\n",
      "玄德               570\n",
      "关公               509\n",
      "丞相               488\n",
      "二人               465\n",
      "不可               435\n",
      "荆州               419\n",
      "孔明曰              385\n",
      "玄德曰              383\n",
      "不能               383\n",
      "如此               376\n",
      "张飞               348\n",
      "商议               344\n",
      "如何               336\n",
      "主公               327\n",
      "军士               309\n",
      "吕布               299\n"
     ]
    }
   ],
   "source": [
    "import os\n",
    "import jieba\n",
    "f = open(\"三国演义.txt\",\"rb\")\n",
    "txt = f.read()\n",
    "words = jieba.lcut(txt) \n",
    "\n",
    "\n",
    "counts = {}\n",
    "for word in words:\n",
    "    if len(word) == 1:\n",
    "        continue\n",
    "    else:\n",
    "        counts[word] = counts.get(word,0) + 1 \n",
    "items = list(counts.items())\n",
    "items.sort(key = lambda items: items[1], reverse = True)\n",
    "\n",
    "\n",
    "for i in range(20):\n",
    "    word, count =  items[i]\n",
    "    print(\"{0:<15}{1:>5}\".format(word,count))"
   ]
  },
  {
   "cell_type": "markdown",
   "metadata": {},
   "source": [
    "继续优化改进"
   ]
  },
  {
   "cell_type": "code",
   "execution_count": 5,
   "metadata": {
    "collapsed": true
   },
   "outputs": [
    {
     "name": "stdout",
     "output_type": "stream",
     "text": [
      "曹操               934\n",
      "孔明               831\n",
      "玄德               570\n",
      "关公               509\n",
      "丞相               488\n",
      "二人               465\n",
      "不可               435\n",
      "荆州               419\n",
      "孔明曰              385\n",
      "玄德曰              383\n",
      "张飞               348\n",
      "左右               291\n",
      "军马               289\n",
      "刘备               271\n",
      "大喜               265\n",
      "孙权               264\n",
      "云长               261\n",
      "赵云               255\n",
      "于是               250\n",
      "今日               242\n"
     ]
    }
   ],
   "source": [
    "import os\n",
    "import jieba\n",
    "f = open(\"三国演义.txt\",\"rb\")\n",
    "txt = f.read()\n",
    "words = jieba.lcut(txt) \n",
    "\n",
    "counts = {}\n",
    "for word in words:\n",
    "    if len(word) == 1:\n",
    "        continue\n",
    "    else:\n",
    "        counts[word] = counts.get(word,0) + 1 \n",
    "        \n",
    "        \n",
    "excludes = ['却说','将军','商议','主公','吕布','军士','如此','如何','不能','天下','引兵','东吴','次日']\n",
    "for word in excludes:\n",
    "    del(counts[word])\n",
    "        \n",
    "        \n",
    "        \n",
    "items = list(counts.items())\n",
    "items.sort(key = lambda items: items[1], reverse = True)\n",
    "\n",
    "for i in range(20):\n",
    "    word, count =  items[i]\n",
    "    print(\"{0:<15}{1:>5}\".format(word,count))"
   ]
  },
  {
   "cell_type": "markdown",
   "metadata": {},
   "source": [
    "- 上海地铁导航\n",
    "- BFS, DFS"
   ]
  },
  {
   "cell_type": "code",
   "execution_count": 48,
   "metadata": {},
   "outputs": [],
   "source": [
    "simple_connection_info = {\n",
    "    \"世纪大道\":[\"商城路\",\"浦电路\",\"东昌路\"],\n",
    "    \"小南门\":  [\"陆家浜路\"],\n",
    "    \"陆家浜路\":[\"老西门\"],\n",
    "    \"老西门\":  [\"豫园\"],\n",
    "    \"豫园\":    [\"南京东路\"],\n",
    "    \"南京东路\":[\"豫园\",\"陆家嘴\"],\n",
    "    \"陆家嘴\":[\"东昌路\"],\n",
    "    \"东昌路\":[\"世纪大道\"],\n",
    "    \"商城路\":[\"陆家浜路\"],\n",
    "    \"浦电路\":[\"小南门\"]\n",
    "} "
   ]
  },
  {
   "cell_type": "code",
   "execution_count": 49,
   "metadata": {},
   "outputs": [],
   "source": [
    "def search(start,destination,connection_grpah):\n",
    "    pathes = [[start]]\n",
    "    visited = set()\n",
    "    while pathes:\n",
    "        path = pathes.pop(0)\n",
    "        froninter = path[-1]\n",
    "        \n",
    "        if froninter in visited: continue \n",
    "        successors = connection_grpah[froninter]\n",
    "            \n",
    "        for stop in successors:\n",
    "                new_path = path + [stop]\n",
    "                pathes.append(new_path)\n",
    "        if stop == destination: return new_path"
   ]
  },
  {
   "cell_type": "code",
   "execution_count": 51,
   "metadata": {},
   "outputs": [
    {
     "data": {
      "text/plain": [
       "['世纪大道', '浦电路', '小南门']"
      ]
     },
     "execution_count": 51,
     "metadata": {},
     "output_type": "execute_result"
    }
   ],
   "source": [
    "search(\"世纪大道\",\"小南门\",simple_connection_info )"
   ]
  },
  {
   "cell_type": "code",
   "execution_count": null,
   "metadata": {},
   "outputs": [],
   "source": []
  },
  {
   "cell_type": "code",
   "execution_count": null,
   "metadata": {},
   "outputs": [],
   "source": []
  },
  {
   "cell_type": "code",
   "execution_count": null,
   "metadata": {},
   "outputs": [],
   "source": []
  },
  {
   "cell_type": "code",
   "execution_count": null,
   "metadata": {},
   "outputs": [],
   "source": []
  },
  {
   "cell_type": "code",
   "execution_count": null,
   "metadata": {},
   "outputs": [],
   "source": []
  }
 ],
 "metadata": {
  "kernelspec": {
   "display_name": "Python 3",
   "language": "python",
   "name": "python3"
  },
  "language_info": {
   "codemirror_mode": {
    "name": "ipython",
    "version": 3
   },
   "file_extension": ".py",
   "mimetype": "text/x-python",
   "name": "python",
   "nbconvert_exporter": "python",
   "pygments_lexer": "ipython3",
   "version": "3.7.0"
  }
 },
 "nbformat": 4,
 "nbformat_minor": 2
}
