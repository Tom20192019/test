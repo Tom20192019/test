{
 "cells": [
  {
   "cell_type": "code",
   "execution_count": 1,
   "metadata": {},
   "outputs": [],
   "source": [
    "def create_grammar(grammar_str,split=\"=>\",line_split=\"\\n\"):\n",
    "    grammar ={}\n",
    "    for line in  grammar_str.split(line_split):\n",
    "        if not line.strip():\n",
    "            continue\n",
    "        exp,stmt = line.split(split)\n",
    "        grammar[exp.strip()] = [s.split() for s in stmt.split(\"|\")]\n",
    "    return grammar"
   ]
  },
  {
   "cell_type": "code",
   "execution_count": 2,
   "metadata": {},
   "outputs": [],
   "source": [
    "import random"
   ]
  },
  {
   "cell_type": "code",
   "execution_count": 3,
   "metadata": {},
   "outputs": [],
   "source": [
    "choice = random.choice\n",
    "def generate (gram,target):\n",
    "    if target not in gram: return target\n",
    "    expanded = [generate(gram,t) for t in choice(gram[target])]\n",
    "    return \"\".join([e for e in expanded if e != \"null\"])"
   ]
  },
  {
   "cell_type": "code",
   "execution_count": 4,
   "metadata": {},
   "outputs": [],
   "source": [
    "#一个客户在4S店售车现场，咨询汽车信息的场景可以定义为：\n",
    "human = \"\"\"\n",
    "human = 客户 咨询 车辆信息\n",
    "客户 = 我|俺|我们 \n",
    "咨询 = 请教您|问下工程师\n",
    "车辆信息 = 关于D60车子的上市时间 | 这个车子百公里的油耗 \n",
    "\"\"\"\n",
    "#一个“智能机器人”的语言可以定义为\n",
    "\n",
    "bot = \"\"\"\n",
    "bot = 寒暄 报数 询问 业务相关 结尾 \n",
    "报数 = 我是 数字 号销售经理 ,\n",
    "数字 = 单个数字 | 数字 单个数字 \n",
    "单个数字 = 1 | 2 | 3 | 4 | 5 | 6 | 7 | 8 | 9 \n",
    "寒暄 = 称谓 打招呼 | 打招呼\n",
    "称谓 = 人称 ,\n",
    "人称 = 先生 | 女士 \n",
    "打招呼 = 你好 | 您好 \n",
    "询问 = 请问你要 | 您需要\n",
    "业务相关 =了解关于车子哪些信息|想咨询车子哪方面的内容呢 \n",
    "车辆信息 = 价格 | 颜色 | 油耗 | 上市时间\n",
    "结尾 =？\n",
    "\"\"\""
   ]
  },
  {
   "cell_type": "code",
   "execution_count": 5,
   "metadata": {},
   "outputs": [
    {
     "name": "stdout",
     "output_type": "stream",
     "text": [
      "我问下工程师这个车子百公里的油耗\n",
      "我们问下工程师这个车子百公里的油耗\n",
      "我问下工程师这个车子百公里的油耗\n",
      "我问下工程师这个车子百公里的油耗\n",
      "我们请教您关于D60车子的上市时间\n",
      "我们请教您关于D60车子的上市时间\n",
      "俺问下工程师这个车子百公里的油耗\n",
      "我请教您这个车子百公里的油耗\n",
      "俺问下工程师这个车子百公里的油耗\n",
      "我们问下工程师关于D60车子的上市时间\n",
      "俺问下工程师这个车子百公里的油耗\n",
      "我请教您这个车子百公里的油耗\n",
      "我请教您这个车子百公里的油耗\n",
      "我问下工程师这个车子百公里的油耗\n",
      "俺问下工程师关于D60车子的上市时间\n",
      "我们请教您关于D60车子的上市时间\n",
      "俺问下工程师关于D60车子的上市时间\n",
      "我们请教您这个车子百公里的油耗\n",
      "俺问下工程师关于D60车子的上市时间\n",
      "俺请教您这个车子百公里的油耗\n"
     ]
    }
   ],
   "source": [
    "for i in range(20):\n",
    "    print(generate(gram = create_grammar(human,split=\"=\"),target=\"human\"))"
   ]
  },
  {
   "cell_type": "code",
   "execution_count": null,
   "metadata": {},
   "outputs": [],
   "source": []
  },
  {
   "cell_type": "code",
   "execution_count": null,
   "metadata": {},
   "outputs": [],
   "source": []
  },
  {
   "cell_type": "code",
   "execution_count": null,
   "metadata": {},
   "outputs": [],
   "source": []
  },
  {
   "cell_type": "code",
   "execution_count": null,
   "metadata": {},
   "outputs": [],
   "source": []
  },
  {
   "cell_type": "code",
   "execution_count": null,
   "metadata": {},
   "outputs": [],
   "source": []
  },
  {
   "cell_type": "code",
   "execution_count": null,
   "metadata": {},
   "outputs": [],
   "source": []
  },
  {
   "cell_type": "code",
   "execution_count": null,
   "metadata": {},
   "outputs": [],
   "source": []
  },
  {
   "cell_type": "code",
   "execution_count": null,
   "metadata": {},
   "outputs": [],
   "source": []
  },
  {
   "cell_type": "code",
   "execution_count": null,
   "metadata": {},
   "outputs": [],
   "source": []
  },
  {
   "cell_type": "code",
   "execution_count": null,
   "metadata": {},
   "outputs": [],
   "source": []
  }
 ],
 "metadata": {
  "kernelspec": {
   "display_name": "Python 3",
   "language": "python",
   "name": "python3"
  },
  "language_info": {
   "codemirror_mode": {
    "name": "ipython",
    "version": 3
   },
   "file_extension": ".py",
   "mimetype": "text/x-python",
   "name": "python",
   "nbconvert_exporter": "python",
   "pygments_lexer": "ipython3",
   "version": "3.7.0"
  }
 },
 "nbformat": 4,
 "nbformat_minor": 2
}
