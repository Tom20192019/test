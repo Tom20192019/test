{
 "cells": [
  {
   "cell_type": "code",
   "execution_count": 31,
   "metadata": {},
   "outputs": [],
   "source": [
    "import numpy as np \n",
    "import pandas as pd\n",
    "%matplotlib inline"
   ]
  },
  {
   "cell_type": "code",
   "execution_count": 32,
   "metadata": {},
   "outputs": [],
   "source": [
    "from numba import jit"
   ]
  },
  {
   "cell_type": "code",
   "execution_count": 33,
   "metadata": {},
   "outputs": [],
   "source": [
    "sample_window = pd.read_csv(\"C:/Users/tyx51/Desktop/data3/CreditSampleWindow.csv\")"
   ]
  },
  {
   "cell_type": "code",
   "execution_count": 34,
   "metadata": {},
   "outputs": [
    {
     "name": "stdout",
     "output_type": "stream",
     "text": [
      "['CID' 'STAGE_BEF' 'STAGE_AFT' 'START_DATE' 'CLOSE_DATE']\n"
     ]
    }
   ],
   "source": [
    "print(sample_window.columns.values) "
   ]
  },
  {
   "cell_type": "code",
   "execution_count": 42,
   "metadata": {},
   "outputs": [
    {
     "data": {
      "text/plain": [
       "(1663660, 8)"
      ]
     },
     "execution_count": 42,
     "metadata": {},
     "output_type": "execute_result"
    }
   ],
   "source": [
    "sample_window.shape"
   ]
  },
  {
   "cell_type": "code",
   "execution_count": 56,
   "metadata": {},
   "outputs": [
    {
     "data": {
      "text/html": [
       "<div>\n",
       "<style scoped>\n",
       "    .dataframe tbody tr th:only-of-type {\n",
       "        vertical-align: middle;\n",
       "    }\n",
       "\n",
       "    .dataframe tbody tr th {\n",
       "        vertical-align: top;\n",
       "    }\n",
       "\n",
       "    .dataframe thead th {\n",
       "        text-align: right;\n",
       "    }\n",
       "</style>\n",
       "<table border=\"1\" class=\"dataframe\">\n",
       "  <thead>\n",
       "    <tr style=\"text-align: right;\">\n",
       "      <th></th>\n",
       "      <th>CID</th>\n",
       "      <th>STAGE_BEF</th>\n",
       "      <th>STAGE_AFT</th>\n",
       "      <th>START_DATE</th>\n",
       "      <th>CLOSE_DATE</th>\n",
       "      <th>STAGE_MONTH</th>\n",
       "      <th>CLOSE_MONTH</th>\n",
       "      <th>AFT_FLAG</th>\n",
       "    </tr>\n",
       "  </thead>\n",
       "  <tbody>\n",
       "    <tr>\n",
       "      <th>0</th>\n",
       "      <td>CID0128273</td>\n",
       "      <td></td>\n",
       "      <td>M0</td>\n",
       "      <td>20170701.0</td>\n",
       "      <td>20170703.0</td>\n",
       "      <td>201707</td>\n",
       "      <td>201707</td>\n",
       "      <td>0</td>\n",
       "    </tr>\n",
       "    <tr>\n",
       "      <th>1</th>\n",
       "      <td>CID0214787</td>\n",
       "      <td></td>\n",
       "      <td>M0</td>\n",
       "      <td>20180201.0</td>\n",
       "      <td>20180204.0</td>\n",
       "      <td>201802</td>\n",
       "      <td>201802</td>\n",
       "      <td>0</td>\n",
       "    </tr>\n",
       "    <tr>\n",
       "      <th>2</th>\n",
       "      <td>CID0287932</td>\n",
       "      <td>M4</td>\n",
       "      <td>M5</td>\n",
       "      <td>20180501.0</td>\n",
       "      <td>20180531.0</td>\n",
       "      <td>201805</td>\n",
       "      <td>201805</td>\n",
       "      <td>5</td>\n",
       "    </tr>\n",
       "    <tr>\n",
       "      <th>3</th>\n",
       "      <td>CID0351850</td>\n",
       "      <td></td>\n",
       "      <td>M0</td>\n",
       "      <td>20161002.0</td>\n",
       "      <td>20161005.0</td>\n",
       "      <td>201610</td>\n",
       "      <td>201610</td>\n",
       "      <td>0</td>\n",
       "    </tr>\n",
       "    <tr>\n",
       "      <th>4</th>\n",
       "      <td>CID0217310</td>\n",
       "      <td></td>\n",
       "      <td>M0</td>\n",
       "      <td>20150601.0</td>\n",
       "      <td>20150602.0</td>\n",
       "      <td>201506</td>\n",
       "      <td>201506</td>\n",
       "      <td>0</td>\n",
       "    </tr>\n",
       "    <tr>\n",
       "      <th>5</th>\n",
       "      <td>CID0010329</td>\n",
       "      <td>M6</td>\n",
       "      <td>M7</td>\n",
       "      <td>20170128.0</td>\n",
       "      <td>20170227.0</td>\n",
       "      <td>201701</td>\n",
       "      <td>201702</td>\n",
       "      <td>7</td>\n",
       "    </tr>\n",
       "    <tr>\n",
       "      <th>6</th>\n",
       "      <td>CID0140008</td>\n",
       "      <td></td>\n",
       "      <td>M0</td>\n",
       "      <td>20170801.0</td>\n",
       "      <td>20170802.0</td>\n",
       "      <td>201708</td>\n",
       "      <td>201708</td>\n",
       "      <td>0</td>\n",
       "    </tr>\n",
       "    <tr>\n",
       "      <th>7</th>\n",
       "      <td>CID0066926</td>\n",
       "      <td></td>\n",
       "      <td>M0</td>\n",
       "      <td>20170201.0</td>\n",
       "      <td>20170204.0</td>\n",
       "      <td>201702</td>\n",
       "      <td>201702</td>\n",
       "      <td>0</td>\n",
       "    </tr>\n",
       "    <tr>\n",
       "      <th>8</th>\n",
       "      <td>CID0156186</td>\n",
       "      <td></td>\n",
       "      <td>M0</td>\n",
       "      <td>20170701.0</td>\n",
       "      <td>20170704.0</td>\n",
       "      <td>201707</td>\n",
       "      <td>201707</td>\n",
       "      <td>0</td>\n",
       "    </tr>\n",
       "    <tr>\n",
       "      <th>9</th>\n",
       "      <td>CID0362128</td>\n",
       "      <td>M0</td>\n",
       "      <td>M1</td>\n",
       "      <td>20160504.0</td>\n",
       "      <td>20160510.0</td>\n",
       "      <td>201605</td>\n",
       "      <td>201605</td>\n",
       "      <td>1</td>\n",
       "    </tr>\n",
       "  </tbody>\n",
       "</table>\n",
       "</div>"
      ],
      "text/plain": [
       "          CID STAGE_BEF STAGE_AFT  START_DATE  CLOSE_DATE  STAGE_MONTH  \\\n",
       "0  CID0128273                  M0  20170701.0  20170703.0       201707   \n",
       "1  CID0214787                  M0  20180201.0  20180204.0       201802   \n",
       "2  CID0287932        M4        M5  20180501.0  20180531.0       201805   \n",
       "3  CID0351850                  M0  20161002.0  20161005.0       201610   \n",
       "4  CID0217310                  M0  20150601.0  20150602.0       201506   \n",
       "5  CID0010329        M6        M7  20170128.0  20170227.0       201701   \n",
       "6  CID0140008                  M0  20170801.0  20170802.0       201708   \n",
       "7  CID0066926                  M0  20170201.0  20170204.0       201702   \n",
       "8  CID0156186                  M0  20170701.0  20170704.0       201707   \n",
       "9  CID0362128        M0        M1  20160504.0  20160510.0       201605   \n",
       "\n",
       "   CLOSE_MONTH  AFT_FLAG  \n",
       "0       201707         0  \n",
       "1       201802         0  \n",
       "2       201805         5  \n",
       "3       201610         0  \n",
       "4       201506         0  \n",
       "5       201702         7  \n",
       "6       201708         0  \n",
       "7       201702         0  \n",
       "8       201707         0  \n",
       "9       201605         1  "
      ]
     },
     "execution_count": 56,
     "metadata": {},
     "output_type": "execute_result"
    }
   ],
   "source": [
    "sample_window.head(10)  "
   ]
  },
  {
   "cell_type": "code",
   "execution_count": 49,
   "metadata": {},
   "outputs": [
    {
     "data": {
      "text/plain": [
       "(1663660, 8)"
      ]
     },
     "execution_count": 49,
     "metadata": {},
     "output_type": "execute_result"
    }
   ],
   "source": [
    "sample_window.drop_duplicates(inplace=True) # 去除  所有的值完全重复  的行 \n",
    "sample_window.shape"
   ]
  },
  {
   "cell_type": "code",
   "execution_count": 50,
   "metadata": {},
   "outputs": [
    {
     "data": {
      "text/plain": [
       "(1663660, 8)"
      ]
     },
     "execution_count": 50,
     "metadata": {},
     "output_type": "execute_result"
    }
   ],
   "source": [
    "sample_window.dropna(subset=[\"STAGE_BEF\",\"STAGE_AFT\"],inplace=True)  #两字段有一个缺失就删除之 \n",
    "sample_window.shape  "
   ]
  },
  {
   "cell_type": "code",
   "execution_count": 51,
   "metadata": {},
   "outputs": [],
   "source": [
    "# 对日期取年月份\n",
    "sample_window[\"STAGE_MONTH\"] = sample_window.START_DATE.apply(lambda x: int(x//100))\n",
    "sample_window[\"CLOSE_MONTH\"] = sample_window.CLOSE_DATE.apply(lambda x: int(x//100))"
   ]
  },
  {
   "cell_type": "code",
   "execution_count": 52,
   "metadata": {},
   "outputs": [],
   "source": [
    "sample_window[\"AFT_FLAG\"] = sample_window.STAGE_AFT.apply(lambda x: int(x[-1]))"
   ]
  },
  {
   "cell_type": "code",
   "execution_count": 57,
   "metadata": {},
   "outputs": [
    {
     "data": {
      "text/html": [
       "<div>\n",
       "<style scoped>\n",
       "    .dataframe tbody tr th:only-of-type {\n",
       "        vertical-align: middle;\n",
       "    }\n",
       "\n",
       "    .dataframe tbody tr th {\n",
       "        vertical-align: top;\n",
       "    }\n",
       "\n",
       "    .dataframe thead th {\n",
       "        text-align: right;\n",
       "    }\n",
       "</style>\n",
       "<table border=\"1\" class=\"dataframe\">\n",
       "  <thead>\n",
       "    <tr style=\"text-align: right;\">\n",
       "      <th></th>\n",
       "      <th>CID</th>\n",
       "      <th>STAGE_BEF</th>\n",
       "      <th>STAGE_AFT</th>\n",
       "      <th>START_DATE</th>\n",
       "      <th>CLOSE_DATE</th>\n",
       "      <th>STAGE_MONTH</th>\n",
       "      <th>CLOSE_MONTH</th>\n",
       "      <th>AFT_FLAG</th>\n",
       "    </tr>\n",
       "  </thead>\n",
       "  <tbody>\n",
       "    <tr>\n",
       "      <th>0</th>\n",
       "      <td>CID0128273</td>\n",
       "      <td></td>\n",
       "      <td>M0</td>\n",
       "      <td>20170701.0</td>\n",
       "      <td>20170703.0</td>\n",
       "      <td>201707</td>\n",
       "      <td>201707</td>\n",
       "      <td>0</td>\n",
       "    </tr>\n",
       "    <tr>\n",
       "      <th>1</th>\n",
       "      <td>CID0214787</td>\n",
       "      <td></td>\n",
       "      <td>M0</td>\n",
       "      <td>20180201.0</td>\n",
       "      <td>20180204.0</td>\n",
       "      <td>201802</td>\n",
       "      <td>201802</td>\n",
       "      <td>0</td>\n",
       "    </tr>\n",
       "    <tr>\n",
       "      <th>2</th>\n",
       "      <td>CID0287932</td>\n",
       "      <td>M4</td>\n",
       "      <td>M5</td>\n",
       "      <td>20180501.0</td>\n",
       "      <td>20180531.0</td>\n",
       "      <td>201805</td>\n",
       "      <td>201805</td>\n",
       "      <td>5</td>\n",
       "    </tr>\n",
       "    <tr>\n",
       "      <th>3</th>\n",
       "      <td>CID0351850</td>\n",
       "      <td></td>\n",
       "      <td>M0</td>\n",
       "      <td>20161002.0</td>\n",
       "      <td>20161005.0</td>\n",
       "      <td>201610</td>\n",
       "      <td>201610</td>\n",
       "      <td>0</td>\n",
       "    </tr>\n",
       "    <tr>\n",
       "      <th>4</th>\n",
       "      <td>CID0217310</td>\n",
       "      <td></td>\n",
       "      <td>M0</td>\n",
       "      <td>20150601.0</td>\n",
       "      <td>20150602.0</td>\n",
       "      <td>201506</td>\n",
       "      <td>201506</td>\n",
       "      <td>0</td>\n",
       "    </tr>\n",
       "    <tr>\n",
       "      <th>5</th>\n",
       "      <td>CID0010329</td>\n",
       "      <td>M6</td>\n",
       "      <td>M7</td>\n",
       "      <td>20170128.0</td>\n",
       "      <td>20170227.0</td>\n",
       "      <td>201701</td>\n",
       "      <td>201702</td>\n",
       "      <td>7</td>\n",
       "    </tr>\n",
       "    <tr>\n",
       "      <th>6</th>\n",
       "      <td>CID0140008</td>\n",
       "      <td></td>\n",
       "      <td>M0</td>\n",
       "      <td>20170801.0</td>\n",
       "      <td>20170802.0</td>\n",
       "      <td>201708</td>\n",
       "      <td>201708</td>\n",
       "      <td>0</td>\n",
       "    </tr>\n",
       "    <tr>\n",
       "      <th>7</th>\n",
       "      <td>CID0066926</td>\n",
       "      <td></td>\n",
       "      <td>M0</td>\n",
       "      <td>20170201.0</td>\n",
       "      <td>20170204.0</td>\n",
       "      <td>201702</td>\n",
       "      <td>201702</td>\n",
       "      <td>0</td>\n",
       "    </tr>\n",
       "    <tr>\n",
       "      <th>8</th>\n",
       "      <td>CID0156186</td>\n",
       "      <td></td>\n",
       "      <td>M0</td>\n",
       "      <td>20170701.0</td>\n",
       "      <td>20170704.0</td>\n",
       "      <td>201707</td>\n",
       "      <td>201707</td>\n",
       "      <td>0</td>\n",
       "    </tr>\n",
       "    <tr>\n",
       "      <th>9</th>\n",
       "      <td>CID0362128</td>\n",
       "      <td>M0</td>\n",
       "      <td>M1</td>\n",
       "      <td>20160504.0</td>\n",
       "      <td>20160510.0</td>\n",
       "      <td>201605</td>\n",
       "      <td>201605</td>\n",
       "      <td>1</td>\n",
       "    </tr>\n",
       "  </tbody>\n",
       "</table>\n",
       "</div>"
      ],
      "text/plain": [
       "          CID STAGE_BEF STAGE_AFT  START_DATE  CLOSE_DATE  STAGE_MONTH  \\\n",
       "0  CID0128273                  M0  20170701.0  20170703.0       201707   \n",
       "1  CID0214787                  M0  20180201.0  20180204.0       201802   \n",
       "2  CID0287932        M4        M5  20180501.0  20180531.0       201805   \n",
       "3  CID0351850                  M0  20161002.0  20161005.0       201610   \n",
       "4  CID0217310                  M0  20150601.0  20150602.0       201506   \n",
       "5  CID0010329        M6        M7  20170128.0  20170227.0       201701   \n",
       "6  CID0140008                  M0  20170801.0  20170802.0       201708   \n",
       "7  CID0066926                  M0  20170201.0  20170204.0       201702   \n",
       "8  CID0156186                  M0  20170701.0  20170704.0       201707   \n",
       "9  CID0362128        M0        M1  20160504.0  20160510.0       201605   \n",
       "\n",
       "   CLOSE_MONTH  AFT_FLAG  \n",
       "0       201707         0  \n",
       "1       201802         0  \n",
       "2       201805         5  \n",
       "3       201610         0  \n",
       "4       201506         0  \n",
       "5       201702         7  \n",
       "6       201708         0  \n",
       "7       201702         0  \n",
       "8       201707         0  \n",
       "9       201605         1  "
      ]
     },
     "execution_count": 57,
     "metadata": {},
     "output_type": "execute_result"
    }
   ],
   "source": [
    "sample_window.head(10) "
   ]
  },
  {
   "cell_type": "code",
   "execution_count": 55,
   "metadata": {},
   "outputs": [],
   "source": [
    "sample_window.loc[sample_window.CLOSE_MONTH == 0,\"CLOSE_MONTH\"] = 201805"
   ]
  },
  {
   "cell_type": "code",
   "execution_count": 13,
   "metadata": {},
   "outputs": [],
   "source": [
    "#解决warning \n",
    "import warnings\n",
    "warnings.filterwarnings(\"ignore\")"
   ]
  },
  {
   "cell_type": "code",
   "execution_count": null,
   "metadata": {},
   "outputs": [],
   "source": []
  },
  {
   "cell_type": "code",
   "execution_count": null,
   "metadata": {},
   "outputs": [],
   "source": []
  },
  {
   "cell_type": "code",
   "execution_count": null,
   "metadata": {},
   "outputs": [],
   "source": []
  },
  {
   "cell_type": "code",
   "execution_count": null,
   "metadata": {},
   "outputs": [],
   "source": []
  },
  {
   "cell_type": "code",
   "execution_count": null,
   "metadata": {},
   "outputs": [],
   "source": []
  },
  {
   "cell_type": "code",
   "execution_count": null,
   "metadata": {},
   "outputs": [],
   "source": []
  },
  {
   "cell_type": "code",
   "execution_count": null,
   "metadata": {},
   "outputs": [],
   "source": []
  },
  {
   "cell_type": "code",
   "execution_count": null,
   "metadata": {},
   "outputs": [],
   "source": []
  },
  {
   "cell_type": "code",
   "execution_count": null,
   "metadata": {},
   "outputs": [],
   "source": []
  },
  {
   "cell_type": "code",
   "execution_count": null,
   "metadata": {},
   "outputs": [],
   "source": []
  },
  {
   "cell_type": "code",
   "execution_count": null,
   "metadata": {},
   "outputs": [],
   "source": []
  },
  {
   "cell_type": "code",
   "execution_count": null,
   "metadata": {},
   "outputs": [],
   "source": []
  },
  {
   "cell_type": "code",
   "execution_count": null,
   "metadata": {},
   "outputs": [],
   "source": []
  }
 ],
 "metadata": {
  "kernelspec": {
   "display_name": "Python 3",
   "language": "python",
   "name": "python3"
  },
  "language_info": {
   "codemirror_mode": {
    "name": "ipython",
    "version": 3
   },
   "file_extension": ".py",
   "mimetype": "text/x-python",
   "name": "python",
   "nbconvert_exporter": "python",
   "pygments_lexer": "ipython3",
   "version": "3.7.0"
  }
 },
 "nbformat": 4,
 "nbformat_minor": 2
}
